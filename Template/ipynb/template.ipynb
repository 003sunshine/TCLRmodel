{
 "cells": [
  {
   "cell_type": "markdown",
   "metadata": {},
   "source": [
    "## 1:  Configure a temporary address for import the TCLR modle"
   ]
  },
  {
   "cell_type": "code",
   "execution_count": 10,
   "metadata": {},
   "outputs": [],
   "source": [
    "import sys\n",
    "# Configure a temporary address\n",
    "# locdir is the address of your computer where the folder 'TreeClassifierforLinearRegression' is located\n",
    "locdir = 'D:\\\\TCLRUPLOAD\\\\Source code'\n",
    "sys.path.append(locdir)\n",
    "import TCLRmodel.TCLRalgorithm as TCLR"
   ]
  },
  {
   "cell_type": "markdown",
   "metadata": {},
   "source": [
    "## 2: Set the parameters "
   ]
  },
  {
   "cell_type": "code",
   "execution_count": 15,
   "metadata": {},
   "outputs": [],
   "source": [
    "dataSet = \"dataexample.csv\"\n",
    "# :param dataSet：the input dataset\n",
    "correlation = 'PearsonR(-)'\n",
    "#  :param correlation : {'PearsonR(+)','PearsonR(-)',''MIC','R2'}，default PearsonR(+)\n",
    "#     * PearsonR: (+)(-). for linear relationship\n",
    "#     * MIC for no-linear relationship\n",
    "#     * R2 for no-linear relationship、\n",
    "minsize = 3\n",
    "#  :param minsize : a int number, the minimum number of data in each leave.\n",
    "threshold = 0.99\n",
    "#  :param threshold : a float, less than or equal to 1, default 0.95 for PearsonR.\n",
    "#   To avoid overfitting, threshold = 0.5 is suggested for MIC 0.5.\n",
    "mininc = 0.2\n",
    "#  :param mininc :Minimum expected gain of objective function"
   ]
  },
  {
   "cell_type": "markdown",
   "metadata": {},
   "source": [
    "## 3:  Analysis dataset by TCLR"
   ]
  },
  {
   "cell_type": "code",
   "execution_count": 16,
   "metadata": {},
   "outputs": [
    {
     "data": {
      "text/plain": [
       "True"
      ]
     },
     "execution_count": 16,
     "metadata": {},
     "output_type": "execute_result"
    }
   ],
   "source": [
    "TCLR.start(dataSet, correlation, minsize, threshold, mininc)"
   ]
  },
  {
   "cell_type": "code",
   "execution_count": null,
   "metadata": {},
   "outputs": [],
   "source": []
  }
 ],
 "metadata": {
  "kernelspec": {
   "display_name": "Python 3",
   "language": "python",
   "name": "python3"
  },
  "language_info": {
   "codemirror_mode": {
    "name": "ipython",
    "version": 3
   },
   "file_extension": ".py",
   "mimetype": "text/x-python",
   "name": "python",
   "nbconvert_exporter": "python",
   "pygments_lexer": "ipython3",
   "version": "3.7.6"
  }
 },
 "nbformat": 4,
 "nbformat_minor": 4
}
